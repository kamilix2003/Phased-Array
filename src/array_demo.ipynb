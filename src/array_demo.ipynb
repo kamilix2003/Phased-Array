{
 "cells": [
  {
   "cell_type": "code",
   "execution_count": 1,
   "id": "b676caa6",
   "metadata": {},
   "outputs": [],
   "source": [
    "import matplotlib.pyplot as plt\n",
    "import numpy as np\n",
    "\n",
    "import antenna_array as aa\n",
    "from pattern_measurements import HPBW, FNBW, FSLBW, find_nth_peak, get_lobe, find_main_peak\n",
    "from utils import wavelength, linear_to_db, db_to_linear\n",
    "from import_pattern import extract_pattern_data, prepare_data\n",
    "\n",
    "import ipywidgets as widgets\n",
    "from ipywidgets import interact, FloatSlider, IntSlider, Dropdown, Checkbox"
   ]
  },
  {
   "cell_type": "code",
   "execution_count": 2,
   "id": "fba3a5bc",
   "metadata": {},
   "outputs": [],
   "source": [
    "array = aa.AntennaArray(\n",
    "    name='Demo Array',\n",
    "    num_elements=8,\n",
    "    spacings=np.ones(8) * 0.5,\n",
    "    weights=np.ones(8)\n",
    ")\n",
    "\n",
    "N = 360\n",
    "theta = np.linspace(-np.pi/2, np.pi/2, N)\n",
    "frequency = 2.4e9 \n",
    "\n",
    "pattern_matrix, angles, frequencies = extract_pattern_data()\n",
    "patch_pattern = prepare_data(pattern_matrix, angles, frequencies, N)[:, 0]\n",
    "patch_pattern = db_to_linear(patch_pattern - np.max(patch_pattern))"
   ]
  },
  {
   "cell_type": "code",
   "execution_count": 3,
   "id": "0663a1bf",
   "metadata": {},
   "outputs": [],
   "source": [
    "def display_pattern(num_elements = 4, spacing = 0.5, direction=0.0):\n",
    "    array.num_elements = num_elements\n",
    "    array.spacings = aa.symmetric_spacing(num_elements, spacing) * wavelength(frequency)\n",
    "    array.weights = np.ones(num_elements) * 1\n",
    "    \n",
    "    beta = aa.beam_direction(array, np.radians(direction))\n",
    "    print(np.degrees(beta))\n",
    "    pattern = patch_pattern * np.abs(aa.array_factor(array, frequency, theta, beta))\n",
    "    # pattern = np.abs(aa.array_factor(array, frequency, theta, beta))\n",
    "    \n",
    "    fig, ax = plt.subplots(figsize=(10, 5))\n",
    "    plt.plot(np.degrees(theta), linear_to_db(pattern), label='Array Pattern')\n",
    "    _, beam_center = find_main_peak(pattern, theta)\n",
    "    plt.axvline(np.degrees(beam_center), color='green', linestyle='--', label='Beam Center')    \n",
    "    plt.axvline(direction, color='red', linestyle='--', label='Beam Direction')\n",
    "\n",
    "    # print(f'HPBW: {np.degrees(HPBW(pattern, theta))}')\n",
    "    # print(f'FNBW: {np.degrees(FNBW(pattern, theta))}')\n",
    "    # print(f'FSLBW: {np.degrees(FSLBW(pattern, theta))}')\n",
    "\n",
    "    plt.title('Antenna Array Pattern')\n",
    "    plt.xlabel('Angle (degrees)')\n",
    "    plt.ylabel('Magnitude (dB)')\n",
    "    plt.ylim(-50, 0)\n",
    "    plt.grid()\n",
    "    plt.legend()\n",
    "    plt.show()\n",
    "    "
   ]
  },
  {
   "cell_type": "code",
   "execution_count": 4,
   "id": "200a6cba",
   "metadata": {},
   "outputs": [
    {
     "data": {
      "text/plain": [
       "<Figure size 1000x600 with 0 Axes>"
      ]
     },
     "metadata": {},
     "output_type": "display_data"
    },
    {
     "data": {
      "application/vnd.jupyter.widget-view+json": {
       "model_id": "657e1db1ee4e4173b3bde31f79a0fc75",
       "version_major": 2,
       "version_minor": 0
      },
      "text/plain": [
       "interactive(children=(IntSlider(value=8, description='Number of Elements', max=16, min=1), FloatSlider(value=0…"
      ]
     },
     "metadata": {},
     "output_type": "display_data"
    },
    {
     "data": {
      "text/plain": [
       "<function __main__.display_pattern(num_elements=4, spacing=0.5, direction=0.0)>"
      ]
     },
     "execution_count": 4,
     "metadata": {},
     "output_type": "execute_result"
    }
   ],
   "source": [
    "plt.figure(figsize=(10, 6))\n",
    "interact(\n",
    "    display_pattern,\n",
    "    num_elements=IntSlider(min=1, max=16, step=1, value=8, description='Number of Elements'),\n",
    "    spacing=FloatSlider(min=0.1, max=2.0, step=0.1, value=0.5, description='Element Spacing (λ)'),\n",
    "    direction=FloatSlider(min=-90, max=90, step=5, value=22.5, description='Beam Direction (degrees)'),\n",
    "    plot=Checkbox(value=True, description='Plot Pattern')\n",
    ")"
   ]
  },
  {
   "cell_type": "code",
   "execution_count": null,
   "id": "7333fb91",
   "metadata": {},
   "outputs": [],
   "source": []
  }
 ],
 "metadata": {
  "kernelspec": {
   "display_name": ".venv",
   "language": "python",
   "name": "python3"
  },
  "language_info": {
   "codemirror_mode": {
    "name": "ipython",
    "version": 3
   },
   "file_extension": ".py",
   "mimetype": "text/x-python",
   "name": "python",
   "nbconvert_exporter": "python",
   "pygments_lexer": "ipython3",
   "version": "3.13.2"
  }
 },
 "nbformat": 4,
 "nbformat_minor": 5
}
